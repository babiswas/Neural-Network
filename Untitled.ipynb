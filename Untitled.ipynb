{
 "cells": [
  {
   "cell_type": "code",
   "execution_count": 1,
   "id": "160f7505",
   "metadata": {},
   "outputs": [
    {
     "name": "stdout",
     "output_type": "stream",
     "text": [
      "[2, 4, 6, 8]\n"
     ]
    }
   ],
   "source": [
    "def apply_transformation(func,*args):\n",
    "    result=list()\n",
    "    for i in args:\n",
    "        result.append(func(i))\n",
    "    return result\n",
    "\n",
    "def func(i):\n",
    "    return 2*i\n",
    "\n",
    "print(apply_transformation(func,1,2,3,4))"
   ]
  },
  {
   "cell_type": "code",
   "execution_count": 2,
   "id": "88e2b855",
   "metadata": {},
   "outputs": [
    {
     "data": {
      "text/plain": [
       "4.000355602329364"
      ]
     },
     "execution_count": 2,
     "metadata": {},
     "output_type": "execute_result"
    }
   ],
   "source": [
    "def diff(func,x):\n",
    "    y=func(x)\n",
    "    delta=0.000000000001\n",
    "    y1=func(x+delta)\n",
    "    return (y1-y)/delta\n",
    "\n",
    "def func_sq(x):\n",
    "    return x**2\n",
    "\n",
    "diff(func_sq,2)"
   ]
  },
  {
   "cell_type": "code",
   "execution_count": 6,
   "id": "a90a6d9d",
   "metadata": {},
   "outputs": [
    {
     "name": "stdout",
     "output_type": "stream",
     "text": [
      "[1, 2, 3]\n"
     ]
    },
    {
     "data": {
      "text/plain": [
       "2.000000165480742"
      ]
     },
     "execution_count": 6,
     "metadata": {},
     "output_type": "execute_result"
    }
   ],
   "source": [
    "def partial_derv(func,index,*args):\n",
    "    y=func(*args)\n",
    "    delta=0.000000001\n",
    "    args=list(args)\n",
    "    print(args)\n",
    "    args[index]+=delta\n",
    "    y1=func(*args)\n",
    "    return (y1-y)/delta\n",
    "\n",
    "def func(x1,x2,x3):\n",
    "    return 2*x1+2*x2+x3\n",
    "\n",
    "partial_derv(func,1,1,2,3)"
   ]
  },
  {
   "cell_type": "code",
   "execution_count": null,
   "id": "6fa1984d",
   "metadata": {},
   "outputs": [],
   "source": []
  }
 ],
 "metadata": {
  "kernelspec": {
   "display_name": "Python 3",
   "language": "python",
   "name": "python3"
  },
  "language_info": {
   "codemirror_mode": {
    "name": "ipython",
    "version": 3
   },
   "file_extension": ".py",
   "mimetype": "text/x-python",
   "name": "python",
   "nbconvert_exporter": "python",
   "pygments_lexer": "ipython3",
   "version": "3.9.5"
  }
 },
 "nbformat": 4,
 "nbformat_minor": 5
}
